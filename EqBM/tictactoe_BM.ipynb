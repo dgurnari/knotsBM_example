{
 "cells": [
  {
   "cell_type": "code",
   "execution_count": 2,
   "metadata": {},
   "outputs": [],
   "source": [
    "import numpy as np\n",
    "import pandas as pd\n",
    "\n",
    "import networkx as nx\n",
    "\n",
    "import matplotlib\n",
    "import matplotlib.pyplot as plt\n",
    "import seaborn as sns\n",
    "\n",
    "from tqdm.notebook import tqdm"
   ]
  },
  {
   "cell_type": "code",
   "execution_count": 3,
   "metadata": {},
   "outputs": [],
   "source": [
    "from pyballmapper import BallMapper\n",
    "from pyballmapper.plotting import graph_GUI\n",
    "from bokeh.plotting import figure, show\n",
    "\n",
    "from matplotlib import colormaps as cm"
   ]
  },
  {
   "cell_type": "code",
   "execution_count": 4,
   "metadata": {},
   "outputs": [],
   "source": [
    "# this cell allows for bokeh plots to be displayed inside jupyter notebooks\n",
    "from bokeh.io import output_notebook\n",
    "\n",
    "# output_notebook()"
   ]
  },
  {
   "cell_type": "markdown",
   "metadata": {},
   "source": [
    "## Preprocessing"
   ]
  },
  {
   "cell_type": "code",
   "execution_count": 5,
   "metadata": {},
   "outputs": [],
   "source": [
    "def check_victory(c, s):  # c array of configurations, s symbol\n",
    "    c = c.reshape(3, 3)\n",
    "\n",
    "    target = [s, s, s]  # target\n",
    "\n",
    "    for row in c:\n",
    "        if list(row) == target:\n",
    "            return True\n",
    "    for row in c.T:\n",
    "        if list(row) == target:\n",
    "            return True\n",
    "\n",
    "    # check diagonals\n",
    "    if list(c.diagonal()) == target:\n",
    "        return True\n",
    "    if list(np.fliplr(c).diagonal()) == target:\n",
    "        return True\n",
    "\n",
    "    # if here, return false\n",
    "    return False"
   ]
  },
  {
   "cell_type": "code",
   "execution_count": 6,
   "metadata": {},
   "outputs": [],
   "source": [
    "data = pd.read_csv(\n",
    "    \"../data/tic-tac-toe.data\", header=None, names=[i for i in range(9)] + [\"outcome\"]\n",
    ")"
   ]
  },
  {
   "cell_type": "code",
   "execution_count": 7,
   "metadata": {},
   "outputs": [
    {
     "data": {
      "text/html": [
       "<div>\n",
       "<style scoped>\n",
       "    .dataframe tbody tr th:only-of-type {\n",
       "        vertical-align: middle;\n",
       "    }\n",
       "\n",
       "    .dataframe tbody tr th {\n",
       "        vertical-align: top;\n",
       "    }\n",
       "\n",
       "    .dataframe thead th {\n",
       "        text-align: right;\n",
       "    }\n",
       "</style>\n",
       "<table border=\"1\" class=\"dataframe\">\n",
       "  <thead>\n",
       "    <tr style=\"text-align: right;\">\n",
       "      <th></th>\n",
       "      <th>0</th>\n",
       "      <th>1</th>\n",
       "      <th>2</th>\n",
       "      <th>3</th>\n",
       "      <th>4</th>\n",
       "      <th>5</th>\n",
       "      <th>6</th>\n",
       "      <th>7</th>\n",
       "      <th>8</th>\n",
       "      <th>outcome</th>\n",
       "    </tr>\n",
       "  </thead>\n",
       "  <tbody>\n",
       "    <tr>\n",
       "      <th>0</th>\n",
       "      <td>x</td>\n",
       "      <td>x</td>\n",
       "      <td>x</td>\n",
       "      <td>x</td>\n",
       "      <td>o</td>\n",
       "      <td>o</td>\n",
       "      <td>x</td>\n",
       "      <td>o</td>\n",
       "      <td>o</td>\n",
       "      <td>positive</td>\n",
       "    </tr>\n",
       "    <tr>\n",
       "      <th>1</th>\n",
       "      <td>x</td>\n",
       "      <td>x</td>\n",
       "      <td>x</td>\n",
       "      <td>x</td>\n",
       "      <td>o</td>\n",
       "      <td>o</td>\n",
       "      <td>o</td>\n",
       "      <td>x</td>\n",
       "      <td>o</td>\n",
       "      <td>positive</td>\n",
       "    </tr>\n",
       "    <tr>\n",
       "      <th>2</th>\n",
       "      <td>x</td>\n",
       "      <td>x</td>\n",
       "      <td>x</td>\n",
       "      <td>x</td>\n",
       "      <td>o</td>\n",
       "      <td>o</td>\n",
       "      <td>o</td>\n",
       "      <td>o</td>\n",
       "      <td>x</td>\n",
       "      <td>positive</td>\n",
       "    </tr>\n",
       "    <tr>\n",
       "      <th>3</th>\n",
       "      <td>x</td>\n",
       "      <td>x</td>\n",
       "      <td>x</td>\n",
       "      <td>x</td>\n",
       "      <td>o</td>\n",
       "      <td>o</td>\n",
       "      <td>o</td>\n",
       "      <td>b</td>\n",
       "      <td>b</td>\n",
       "      <td>positive</td>\n",
       "    </tr>\n",
       "    <tr>\n",
       "      <th>4</th>\n",
       "      <td>x</td>\n",
       "      <td>x</td>\n",
       "      <td>x</td>\n",
       "      <td>x</td>\n",
       "      <td>o</td>\n",
       "      <td>o</td>\n",
       "      <td>b</td>\n",
       "      <td>o</td>\n",
       "      <td>b</td>\n",
       "      <td>positive</td>\n",
       "    </tr>\n",
       "    <tr>\n",
       "      <th>...</th>\n",
       "      <td>...</td>\n",
       "      <td>...</td>\n",
       "      <td>...</td>\n",
       "      <td>...</td>\n",
       "      <td>...</td>\n",
       "      <td>...</td>\n",
       "      <td>...</td>\n",
       "      <td>...</td>\n",
       "      <td>...</td>\n",
       "      <td>...</td>\n",
       "    </tr>\n",
       "    <tr>\n",
       "      <th>953</th>\n",
       "      <td>o</td>\n",
       "      <td>x</td>\n",
       "      <td>x</td>\n",
       "      <td>x</td>\n",
       "      <td>o</td>\n",
       "      <td>o</td>\n",
       "      <td>o</td>\n",
       "      <td>x</td>\n",
       "      <td>x</td>\n",
       "      <td>negative</td>\n",
       "    </tr>\n",
       "    <tr>\n",
       "      <th>954</th>\n",
       "      <td>o</td>\n",
       "      <td>x</td>\n",
       "      <td>o</td>\n",
       "      <td>x</td>\n",
       "      <td>x</td>\n",
       "      <td>o</td>\n",
       "      <td>x</td>\n",
       "      <td>o</td>\n",
       "      <td>x</td>\n",
       "      <td>negative</td>\n",
       "    </tr>\n",
       "    <tr>\n",
       "      <th>955</th>\n",
       "      <td>o</td>\n",
       "      <td>x</td>\n",
       "      <td>o</td>\n",
       "      <td>x</td>\n",
       "      <td>o</td>\n",
       "      <td>x</td>\n",
       "      <td>x</td>\n",
       "      <td>o</td>\n",
       "      <td>x</td>\n",
       "      <td>negative</td>\n",
       "    </tr>\n",
       "    <tr>\n",
       "      <th>956</th>\n",
       "      <td>o</td>\n",
       "      <td>x</td>\n",
       "      <td>o</td>\n",
       "      <td>o</td>\n",
       "      <td>x</td>\n",
       "      <td>x</td>\n",
       "      <td>x</td>\n",
       "      <td>o</td>\n",
       "      <td>x</td>\n",
       "      <td>negative</td>\n",
       "    </tr>\n",
       "    <tr>\n",
       "      <th>957</th>\n",
       "      <td>o</td>\n",
       "      <td>o</td>\n",
       "      <td>x</td>\n",
       "      <td>x</td>\n",
       "      <td>x</td>\n",
       "      <td>o</td>\n",
       "      <td>o</td>\n",
       "      <td>x</td>\n",
       "      <td>x</td>\n",
       "      <td>negative</td>\n",
       "    </tr>\n",
       "  </tbody>\n",
       "</table>\n",
       "<p>958 rows × 10 columns</p>\n",
       "</div>"
      ],
      "text/plain": [
       "     0  1  2  3  4  5  6  7  8   outcome\n",
       "0    x  x  x  x  o  o  x  o  o  positive\n",
       "1    x  x  x  x  o  o  o  x  o  positive\n",
       "2    x  x  x  x  o  o  o  o  x  positive\n",
       "3    x  x  x  x  o  o  o  b  b  positive\n",
       "4    x  x  x  x  o  o  b  o  b  positive\n",
       "..  .. .. .. .. .. .. .. .. ..       ...\n",
       "953  o  x  x  x  o  o  o  x  x  negative\n",
       "954  o  x  o  x  x  o  x  o  x  negative\n",
       "955  o  x  o  x  o  x  x  o  x  negative\n",
       "956  o  x  o  o  x  x  x  o  x  negative\n",
       "957  o  o  x  x  x  o  o  x  x  negative\n",
       "\n",
       "[958 rows x 10 columns]"
      ]
     },
     "execution_count": 7,
     "metadata": {},
     "output_type": "execute_result"
    }
   ],
   "source": [
    "data"
   ]
  },
  {
   "cell_type": "code",
   "execution_count": 8,
   "metadata": {},
   "outputs": [],
   "source": [
    "my_outcome = []\n",
    "\n",
    "for row in data[[i for i in range(9)]].values:\n",
    "    if check_victory(row, \"x\"):\n",
    "        my_outcome.append(1)\n",
    "    elif check_victory(row, \"o\"):\n",
    "        my_outcome.append(-1)\n",
    "    else:\n",
    "        my_outcome.append(0)\n",
    "\n",
    "data[\"my_outcome\"] = my_outcome"
   ]
  },
  {
   "cell_type": "code",
   "execution_count": 9,
   "metadata": {},
   "outputs": [
    {
     "data": {
      "text/html": [
       "<div>\n",
       "<style scoped>\n",
       "    .dataframe tbody tr th:only-of-type {\n",
       "        vertical-align: middle;\n",
       "    }\n",
       "\n",
       "    .dataframe tbody tr th {\n",
       "        vertical-align: top;\n",
       "    }\n",
       "\n",
       "    .dataframe thead th {\n",
       "        text-align: right;\n",
       "    }\n",
       "</style>\n",
       "<table border=\"1\" class=\"dataframe\">\n",
       "  <thead>\n",
       "    <tr style=\"text-align: right;\">\n",
       "      <th></th>\n",
       "      <th>0</th>\n",
       "      <th>1</th>\n",
       "      <th>2</th>\n",
       "      <th>3</th>\n",
       "      <th>4</th>\n",
       "      <th>5</th>\n",
       "      <th>6</th>\n",
       "      <th>7</th>\n",
       "      <th>8</th>\n",
       "      <th>outcome</th>\n",
       "      <th>my_outcome</th>\n",
       "    </tr>\n",
       "  </thead>\n",
       "  <tbody>\n",
       "    <tr>\n",
       "      <th>0</th>\n",
       "      <td>x</td>\n",
       "      <td>x</td>\n",
       "      <td>x</td>\n",
       "      <td>x</td>\n",
       "      <td>o</td>\n",
       "      <td>o</td>\n",
       "      <td>x</td>\n",
       "      <td>o</td>\n",
       "      <td>o</td>\n",
       "      <td>positive</td>\n",
       "      <td>1</td>\n",
       "    </tr>\n",
       "    <tr>\n",
       "      <th>1</th>\n",
       "      <td>x</td>\n",
       "      <td>x</td>\n",
       "      <td>x</td>\n",
       "      <td>x</td>\n",
       "      <td>o</td>\n",
       "      <td>o</td>\n",
       "      <td>o</td>\n",
       "      <td>x</td>\n",
       "      <td>o</td>\n",
       "      <td>positive</td>\n",
       "      <td>1</td>\n",
       "    </tr>\n",
       "    <tr>\n",
       "      <th>2</th>\n",
       "      <td>x</td>\n",
       "      <td>x</td>\n",
       "      <td>x</td>\n",
       "      <td>x</td>\n",
       "      <td>o</td>\n",
       "      <td>o</td>\n",
       "      <td>o</td>\n",
       "      <td>o</td>\n",
       "      <td>x</td>\n",
       "      <td>positive</td>\n",
       "      <td>1</td>\n",
       "    </tr>\n",
       "    <tr>\n",
       "      <th>3</th>\n",
       "      <td>x</td>\n",
       "      <td>x</td>\n",
       "      <td>x</td>\n",
       "      <td>x</td>\n",
       "      <td>o</td>\n",
       "      <td>o</td>\n",
       "      <td>o</td>\n",
       "      <td>b</td>\n",
       "      <td>b</td>\n",
       "      <td>positive</td>\n",
       "      <td>1</td>\n",
       "    </tr>\n",
       "    <tr>\n",
       "      <th>4</th>\n",
       "      <td>x</td>\n",
       "      <td>x</td>\n",
       "      <td>x</td>\n",
       "      <td>x</td>\n",
       "      <td>o</td>\n",
       "      <td>o</td>\n",
       "      <td>b</td>\n",
       "      <td>o</td>\n",
       "      <td>b</td>\n",
       "      <td>positive</td>\n",
       "      <td>1</td>\n",
       "    </tr>\n",
       "    <tr>\n",
       "      <th>...</th>\n",
       "      <td>...</td>\n",
       "      <td>...</td>\n",
       "      <td>...</td>\n",
       "      <td>...</td>\n",
       "      <td>...</td>\n",
       "      <td>...</td>\n",
       "      <td>...</td>\n",
       "      <td>...</td>\n",
       "      <td>...</td>\n",
       "      <td>...</td>\n",
       "      <td>...</td>\n",
       "    </tr>\n",
       "    <tr>\n",
       "      <th>953</th>\n",
       "      <td>o</td>\n",
       "      <td>x</td>\n",
       "      <td>x</td>\n",
       "      <td>x</td>\n",
       "      <td>o</td>\n",
       "      <td>o</td>\n",
       "      <td>o</td>\n",
       "      <td>x</td>\n",
       "      <td>x</td>\n",
       "      <td>negative</td>\n",
       "      <td>0</td>\n",
       "    </tr>\n",
       "    <tr>\n",
       "      <th>954</th>\n",
       "      <td>o</td>\n",
       "      <td>x</td>\n",
       "      <td>o</td>\n",
       "      <td>x</td>\n",
       "      <td>x</td>\n",
       "      <td>o</td>\n",
       "      <td>x</td>\n",
       "      <td>o</td>\n",
       "      <td>x</td>\n",
       "      <td>negative</td>\n",
       "      <td>0</td>\n",
       "    </tr>\n",
       "    <tr>\n",
       "      <th>955</th>\n",
       "      <td>o</td>\n",
       "      <td>x</td>\n",
       "      <td>o</td>\n",
       "      <td>x</td>\n",
       "      <td>o</td>\n",
       "      <td>x</td>\n",
       "      <td>x</td>\n",
       "      <td>o</td>\n",
       "      <td>x</td>\n",
       "      <td>negative</td>\n",
       "      <td>0</td>\n",
       "    </tr>\n",
       "    <tr>\n",
       "      <th>956</th>\n",
       "      <td>o</td>\n",
       "      <td>x</td>\n",
       "      <td>o</td>\n",
       "      <td>o</td>\n",
       "      <td>x</td>\n",
       "      <td>x</td>\n",
       "      <td>x</td>\n",
       "      <td>o</td>\n",
       "      <td>x</td>\n",
       "      <td>negative</td>\n",
       "      <td>0</td>\n",
       "    </tr>\n",
       "    <tr>\n",
       "      <th>957</th>\n",
       "      <td>o</td>\n",
       "      <td>o</td>\n",
       "      <td>x</td>\n",
       "      <td>x</td>\n",
       "      <td>x</td>\n",
       "      <td>o</td>\n",
       "      <td>o</td>\n",
       "      <td>x</td>\n",
       "      <td>x</td>\n",
       "      <td>negative</td>\n",
       "      <td>0</td>\n",
       "    </tr>\n",
       "  </tbody>\n",
       "</table>\n",
       "<p>958 rows × 11 columns</p>\n",
       "</div>"
      ],
      "text/plain": [
       "     0  1  2  3  4  5  6  7  8   outcome  my_outcome\n",
       "0    x  x  x  x  o  o  x  o  o  positive           1\n",
       "1    x  x  x  x  o  o  o  x  o  positive           1\n",
       "2    x  x  x  x  o  o  o  o  x  positive           1\n",
       "3    x  x  x  x  o  o  o  b  b  positive           1\n",
       "4    x  x  x  x  o  o  b  o  b  positive           1\n",
       "..  .. .. .. .. .. .. .. .. ..       ...         ...\n",
       "953  o  x  x  x  o  o  o  x  x  negative           0\n",
       "954  o  x  o  x  x  o  x  o  x  negative           0\n",
       "955  o  x  o  x  o  x  x  o  x  negative           0\n",
       "956  o  x  o  o  x  x  x  o  x  negative           0\n",
       "957  o  o  x  x  x  o  o  x  x  negative           0\n",
       "\n",
       "[958 rows x 11 columns]"
      ]
     },
     "execution_count": 9,
     "metadata": {},
     "output_type": "execute_result"
    }
   ],
   "source": [
    "data"
   ]
  },
  {
   "cell_type": "code",
   "execution_count": 10,
   "metadata": {},
   "outputs": [
    {
     "data": {
      "text/plain": [
       "my_outcome\n",
       " 1    626\n",
       "-1    316\n",
       " 0     16\n",
       "Name: count, dtype: int64"
      ]
     },
     "execution_count": 10,
     "metadata": {},
     "output_type": "execute_result"
    }
   ],
   "source": [
    "data.my_outcome.value_counts()"
   ]
  },
  {
   "cell_type": "code",
   "execution_count": 11,
   "metadata": {},
   "outputs": [],
   "source": [
    "data_num = data.replace(\n",
    "    {\"x\": \"1\", \"o\": \"-1\", \"b\": \"0\", \"positive\": \"1\", \"negative\": \"-1\"}\n",
    ").astype(int)"
   ]
  },
  {
   "cell_type": "code",
   "execution_count": 12,
   "metadata": {},
   "outputs": [
    {
     "data": {
      "text/html": [
       "<div>\n",
       "<style scoped>\n",
       "    .dataframe tbody tr th:only-of-type {\n",
       "        vertical-align: middle;\n",
       "    }\n",
       "\n",
       "    .dataframe tbody tr th {\n",
       "        vertical-align: top;\n",
       "    }\n",
       "\n",
       "    .dataframe thead th {\n",
       "        text-align: right;\n",
       "    }\n",
       "</style>\n",
       "<table border=\"1\" class=\"dataframe\">\n",
       "  <thead>\n",
       "    <tr style=\"text-align: right;\">\n",
       "      <th></th>\n",
       "      <th>0</th>\n",
       "      <th>1</th>\n",
       "      <th>2</th>\n",
       "      <th>3</th>\n",
       "      <th>4</th>\n",
       "      <th>5</th>\n",
       "      <th>6</th>\n",
       "      <th>7</th>\n",
       "      <th>8</th>\n",
       "      <th>outcome</th>\n",
       "      <th>my_outcome</th>\n",
       "    </tr>\n",
       "  </thead>\n",
       "  <tbody>\n",
       "    <tr>\n",
       "      <th>0</th>\n",
       "      <td>1</td>\n",
       "      <td>1</td>\n",
       "      <td>1</td>\n",
       "      <td>1</td>\n",
       "      <td>-1</td>\n",
       "      <td>-1</td>\n",
       "      <td>1</td>\n",
       "      <td>-1</td>\n",
       "      <td>-1</td>\n",
       "      <td>1</td>\n",
       "      <td>1</td>\n",
       "    </tr>\n",
       "    <tr>\n",
       "      <th>1</th>\n",
       "      <td>1</td>\n",
       "      <td>1</td>\n",
       "      <td>1</td>\n",
       "      <td>1</td>\n",
       "      <td>-1</td>\n",
       "      <td>-1</td>\n",
       "      <td>-1</td>\n",
       "      <td>1</td>\n",
       "      <td>-1</td>\n",
       "      <td>1</td>\n",
       "      <td>1</td>\n",
       "    </tr>\n",
       "    <tr>\n",
       "      <th>2</th>\n",
       "      <td>1</td>\n",
       "      <td>1</td>\n",
       "      <td>1</td>\n",
       "      <td>1</td>\n",
       "      <td>-1</td>\n",
       "      <td>-1</td>\n",
       "      <td>-1</td>\n",
       "      <td>-1</td>\n",
       "      <td>1</td>\n",
       "      <td>1</td>\n",
       "      <td>1</td>\n",
       "    </tr>\n",
       "    <tr>\n",
       "      <th>3</th>\n",
       "      <td>1</td>\n",
       "      <td>1</td>\n",
       "      <td>1</td>\n",
       "      <td>1</td>\n",
       "      <td>-1</td>\n",
       "      <td>-1</td>\n",
       "      <td>-1</td>\n",
       "      <td>0</td>\n",
       "      <td>0</td>\n",
       "      <td>1</td>\n",
       "      <td>1</td>\n",
       "    </tr>\n",
       "    <tr>\n",
       "      <th>4</th>\n",
       "      <td>1</td>\n",
       "      <td>1</td>\n",
       "      <td>1</td>\n",
       "      <td>1</td>\n",
       "      <td>-1</td>\n",
       "      <td>-1</td>\n",
       "      <td>0</td>\n",
       "      <td>-1</td>\n",
       "      <td>0</td>\n",
       "      <td>1</td>\n",
       "      <td>1</td>\n",
       "    </tr>\n",
       "    <tr>\n",
       "      <th>...</th>\n",
       "      <td>...</td>\n",
       "      <td>...</td>\n",
       "      <td>...</td>\n",
       "      <td>...</td>\n",
       "      <td>...</td>\n",
       "      <td>...</td>\n",
       "      <td>...</td>\n",
       "      <td>...</td>\n",
       "      <td>...</td>\n",
       "      <td>...</td>\n",
       "      <td>...</td>\n",
       "    </tr>\n",
       "    <tr>\n",
       "      <th>953</th>\n",
       "      <td>-1</td>\n",
       "      <td>1</td>\n",
       "      <td>1</td>\n",
       "      <td>1</td>\n",
       "      <td>-1</td>\n",
       "      <td>-1</td>\n",
       "      <td>-1</td>\n",
       "      <td>1</td>\n",
       "      <td>1</td>\n",
       "      <td>-1</td>\n",
       "      <td>0</td>\n",
       "    </tr>\n",
       "    <tr>\n",
       "      <th>954</th>\n",
       "      <td>-1</td>\n",
       "      <td>1</td>\n",
       "      <td>-1</td>\n",
       "      <td>1</td>\n",
       "      <td>1</td>\n",
       "      <td>-1</td>\n",
       "      <td>1</td>\n",
       "      <td>-1</td>\n",
       "      <td>1</td>\n",
       "      <td>-1</td>\n",
       "      <td>0</td>\n",
       "    </tr>\n",
       "    <tr>\n",
       "      <th>955</th>\n",
       "      <td>-1</td>\n",
       "      <td>1</td>\n",
       "      <td>-1</td>\n",
       "      <td>1</td>\n",
       "      <td>-1</td>\n",
       "      <td>1</td>\n",
       "      <td>1</td>\n",
       "      <td>-1</td>\n",
       "      <td>1</td>\n",
       "      <td>-1</td>\n",
       "      <td>0</td>\n",
       "    </tr>\n",
       "    <tr>\n",
       "      <th>956</th>\n",
       "      <td>-1</td>\n",
       "      <td>1</td>\n",
       "      <td>-1</td>\n",
       "      <td>-1</td>\n",
       "      <td>1</td>\n",
       "      <td>1</td>\n",
       "      <td>1</td>\n",
       "      <td>-1</td>\n",
       "      <td>1</td>\n",
       "      <td>-1</td>\n",
       "      <td>0</td>\n",
       "    </tr>\n",
       "    <tr>\n",
       "      <th>957</th>\n",
       "      <td>-1</td>\n",
       "      <td>-1</td>\n",
       "      <td>1</td>\n",
       "      <td>1</td>\n",
       "      <td>1</td>\n",
       "      <td>-1</td>\n",
       "      <td>-1</td>\n",
       "      <td>1</td>\n",
       "      <td>1</td>\n",
       "      <td>-1</td>\n",
       "      <td>0</td>\n",
       "    </tr>\n",
       "  </tbody>\n",
       "</table>\n",
       "<p>958 rows × 11 columns</p>\n",
       "</div>"
      ],
      "text/plain": [
       "     0  1  2  3  4  5  6  7  8  outcome  my_outcome\n",
       "0    1  1  1  1 -1 -1  1 -1 -1        1           1\n",
       "1    1  1  1  1 -1 -1 -1  1 -1        1           1\n",
       "2    1  1  1  1 -1 -1 -1 -1  1        1           1\n",
       "3    1  1  1  1 -1 -1 -1  0  0        1           1\n",
       "4    1  1  1  1 -1 -1  0 -1  0        1           1\n",
       "..  .. .. .. .. .. .. .. .. ..      ...         ...\n",
       "953 -1  1  1  1 -1 -1 -1  1  1       -1           0\n",
       "954 -1  1 -1  1  1 -1  1 -1  1       -1           0\n",
       "955 -1  1 -1  1 -1  1  1 -1  1       -1           0\n",
       "956 -1  1 -1 -1  1  1  1 -1  1       -1           0\n",
       "957 -1 -1  1  1  1 -1 -1  1  1       -1           0\n",
       "\n",
       "[958 rows x 11 columns]"
      ]
     },
     "execution_count": 12,
     "metadata": {},
     "output_type": "execute_result"
    }
   ],
   "source": [
    "data_num"
   ]
  },
  {
   "cell_type": "code",
   "execution_count": 13,
   "metadata": {},
   "outputs": [],
   "source": [
    "number_of_moves = []\n",
    "\n",
    "for game in data_num.iloc[:, :9].values:\n",
    "    number_of_moves.append(np.count_nonzero(game))\n",
    "\n",
    "data_num[\"number_of_moves\"] = number_of_moves"
   ]
  },
  {
   "cell_type": "code",
   "execution_count": 14,
   "metadata": {},
   "outputs": [
    {
     "data": {
      "text/plain": [
       "outcome\n",
       " 1    626\n",
       "-1    332\n",
       "Name: count, dtype: int64"
      ]
     },
     "execution_count": 14,
     "metadata": {},
     "output_type": "execute_result"
    }
   ],
   "source": [
    "data_num.outcome.value_counts()"
   ]
  },
  {
   "cell_type": "code",
   "execution_count": 15,
   "metadata": {},
   "outputs": [
    {
     "data": {
      "text/plain": [
       "my_outcome\n",
       " 1    626\n",
       "-1    316\n",
       " 0     16\n",
       "Name: count, dtype: int64"
      ]
     },
     "execution_count": 15,
     "metadata": {},
     "output_type": "execute_result"
    }
   ],
   "source": [
    "data_num.my_outcome.value_counts()"
   ]
  },
  {
   "cell_type": "code",
   "execution_count": 16,
   "metadata": {},
   "outputs": [
    {
     "data": {
      "text/plain": [
       "number_of_moves\n",
       "7    444\n",
       "8    168\n",
       "6    148\n",
       "5    120\n",
       "9     78\n",
       "Name: count, dtype: int64"
      ]
     },
     "execution_count": 16,
     "metadata": {},
     "output_type": "execute_result"
    }
   ],
   "source": [
    "data_num[\"number_of_moves\"].value_counts()"
   ]
  },
  {
   "cell_type": "code",
   "execution_count": 17,
   "metadata": {},
   "outputs": [
    {
     "data": {
      "text/html": [
       "<div>\n",
       "<style scoped>\n",
       "    .dataframe tbody tr th:only-of-type {\n",
       "        vertical-align: middle;\n",
       "    }\n",
       "\n",
       "    .dataframe tbody tr th {\n",
       "        vertical-align: top;\n",
       "    }\n",
       "\n",
       "    .dataframe thead th {\n",
       "        text-align: right;\n",
       "    }\n",
       "</style>\n",
       "<table border=\"1\" class=\"dataframe\">\n",
       "  <thead>\n",
       "    <tr style=\"text-align: right;\">\n",
       "      <th></th>\n",
       "      <th>0</th>\n",
       "      <th>1</th>\n",
       "      <th>2</th>\n",
       "      <th>3</th>\n",
       "      <th>4</th>\n",
       "      <th>5</th>\n",
       "      <th>6</th>\n",
       "      <th>7</th>\n",
       "      <th>8</th>\n",
       "      <th>outcome</th>\n",
       "      <th>my_outcome</th>\n",
       "      <th>number_of_moves</th>\n",
       "    </tr>\n",
       "  </thead>\n",
       "  <tbody>\n",
       "    <tr>\n",
       "      <th>942</th>\n",
       "      <td>1</td>\n",
       "      <td>1</td>\n",
       "      <td>-1</td>\n",
       "      <td>-1</td>\n",
       "      <td>1</td>\n",
       "      <td>1</td>\n",
       "      <td>1</td>\n",
       "      <td>-1</td>\n",
       "      <td>-1</td>\n",
       "      <td>-1</td>\n",
       "      <td>0</td>\n",
       "      <td>9</td>\n",
       "    </tr>\n",
       "    <tr>\n",
       "      <th>943</th>\n",
       "      <td>1</td>\n",
       "      <td>1</td>\n",
       "      <td>-1</td>\n",
       "      <td>-1</td>\n",
       "      <td>-1</td>\n",
       "      <td>1</td>\n",
       "      <td>1</td>\n",
       "      <td>1</td>\n",
       "      <td>-1</td>\n",
       "      <td>-1</td>\n",
       "      <td>0</td>\n",
       "      <td>9</td>\n",
       "    </tr>\n",
       "    <tr>\n",
       "      <th>944</th>\n",
       "      <td>1</td>\n",
       "      <td>1</td>\n",
       "      <td>-1</td>\n",
       "      <td>-1</td>\n",
       "      <td>-1</td>\n",
       "      <td>1</td>\n",
       "      <td>1</td>\n",
       "      <td>-1</td>\n",
       "      <td>1</td>\n",
       "      <td>-1</td>\n",
       "      <td>0</td>\n",
       "      <td>9</td>\n",
       "    </tr>\n",
       "    <tr>\n",
       "      <th>945</th>\n",
       "      <td>1</td>\n",
       "      <td>-1</td>\n",
       "      <td>1</td>\n",
       "      <td>1</td>\n",
       "      <td>1</td>\n",
       "      <td>-1</td>\n",
       "      <td>-1</td>\n",
       "      <td>1</td>\n",
       "      <td>-1</td>\n",
       "      <td>-1</td>\n",
       "      <td>0</td>\n",
       "      <td>9</td>\n",
       "    </tr>\n",
       "    <tr>\n",
       "      <th>946</th>\n",
       "      <td>1</td>\n",
       "      <td>-1</td>\n",
       "      <td>1</td>\n",
       "      <td>1</td>\n",
       "      <td>-1</td>\n",
       "      <td>1</td>\n",
       "      <td>-1</td>\n",
       "      <td>1</td>\n",
       "      <td>-1</td>\n",
       "      <td>-1</td>\n",
       "      <td>0</td>\n",
       "      <td>9</td>\n",
       "    </tr>\n",
       "    <tr>\n",
       "      <th>947</th>\n",
       "      <td>1</td>\n",
       "      <td>-1</td>\n",
       "      <td>1</td>\n",
       "      <td>1</td>\n",
       "      <td>-1</td>\n",
       "      <td>-1</td>\n",
       "      <td>-1</td>\n",
       "      <td>1</td>\n",
       "      <td>1</td>\n",
       "      <td>-1</td>\n",
       "      <td>0</td>\n",
       "      <td>9</td>\n",
       "    </tr>\n",
       "    <tr>\n",
       "      <th>948</th>\n",
       "      <td>1</td>\n",
       "      <td>-1</td>\n",
       "      <td>1</td>\n",
       "      <td>-1</td>\n",
       "      <td>1</td>\n",
       "      <td>1</td>\n",
       "      <td>-1</td>\n",
       "      <td>1</td>\n",
       "      <td>-1</td>\n",
       "      <td>-1</td>\n",
       "      <td>0</td>\n",
       "      <td>9</td>\n",
       "    </tr>\n",
       "    <tr>\n",
       "      <th>949</th>\n",
       "      <td>1</td>\n",
       "      <td>-1</td>\n",
       "      <td>1</td>\n",
       "      <td>-1</td>\n",
       "      <td>-1</td>\n",
       "      <td>1</td>\n",
       "      <td>1</td>\n",
       "      <td>1</td>\n",
       "      <td>-1</td>\n",
       "      <td>-1</td>\n",
       "      <td>0</td>\n",
       "      <td>9</td>\n",
       "    </tr>\n",
       "    <tr>\n",
       "      <th>950</th>\n",
       "      <td>1</td>\n",
       "      <td>-1</td>\n",
       "      <td>-1</td>\n",
       "      <td>-1</td>\n",
       "      <td>1</td>\n",
       "      <td>1</td>\n",
       "      <td>1</td>\n",
       "      <td>1</td>\n",
       "      <td>-1</td>\n",
       "      <td>-1</td>\n",
       "      <td>0</td>\n",
       "      <td>9</td>\n",
       "    </tr>\n",
       "    <tr>\n",
       "      <th>951</th>\n",
       "      <td>-1</td>\n",
       "      <td>1</td>\n",
       "      <td>1</td>\n",
       "      <td>1</td>\n",
       "      <td>1</td>\n",
       "      <td>-1</td>\n",
       "      <td>-1</td>\n",
       "      <td>-1</td>\n",
       "      <td>1</td>\n",
       "      <td>-1</td>\n",
       "      <td>0</td>\n",
       "      <td>9</td>\n",
       "    </tr>\n",
       "    <tr>\n",
       "      <th>952</th>\n",
       "      <td>-1</td>\n",
       "      <td>1</td>\n",
       "      <td>1</td>\n",
       "      <td>1</td>\n",
       "      <td>-1</td>\n",
       "      <td>-1</td>\n",
       "      <td>1</td>\n",
       "      <td>-1</td>\n",
       "      <td>1</td>\n",
       "      <td>-1</td>\n",
       "      <td>0</td>\n",
       "      <td>9</td>\n",
       "    </tr>\n",
       "    <tr>\n",
       "      <th>953</th>\n",
       "      <td>-1</td>\n",
       "      <td>1</td>\n",
       "      <td>1</td>\n",
       "      <td>1</td>\n",
       "      <td>-1</td>\n",
       "      <td>-1</td>\n",
       "      <td>-1</td>\n",
       "      <td>1</td>\n",
       "      <td>1</td>\n",
       "      <td>-1</td>\n",
       "      <td>0</td>\n",
       "      <td>9</td>\n",
       "    </tr>\n",
       "    <tr>\n",
       "      <th>954</th>\n",
       "      <td>-1</td>\n",
       "      <td>1</td>\n",
       "      <td>-1</td>\n",
       "      <td>1</td>\n",
       "      <td>1</td>\n",
       "      <td>-1</td>\n",
       "      <td>1</td>\n",
       "      <td>-1</td>\n",
       "      <td>1</td>\n",
       "      <td>-1</td>\n",
       "      <td>0</td>\n",
       "      <td>9</td>\n",
       "    </tr>\n",
       "    <tr>\n",
       "      <th>955</th>\n",
       "      <td>-1</td>\n",
       "      <td>1</td>\n",
       "      <td>-1</td>\n",
       "      <td>1</td>\n",
       "      <td>-1</td>\n",
       "      <td>1</td>\n",
       "      <td>1</td>\n",
       "      <td>-1</td>\n",
       "      <td>1</td>\n",
       "      <td>-1</td>\n",
       "      <td>0</td>\n",
       "      <td>9</td>\n",
       "    </tr>\n",
       "    <tr>\n",
       "      <th>956</th>\n",
       "      <td>-1</td>\n",
       "      <td>1</td>\n",
       "      <td>-1</td>\n",
       "      <td>-1</td>\n",
       "      <td>1</td>\n",
       "      <td>1</td>\n",
       "      <td>1</td>\n",
       "      <td>-1</td>\n",
       "      <td>1</td>\n",
       "      <td>-1</td>\n",
       "      <td>0</td>\n",
       "      <td>9</td>\n",
       "    </tr>\n",
       "    <tr>\n",
       "      <th>957</th>\n",
       "      <td>-1</td>\n",
       "      <td>-1</td>\n",
       "      <td>1</td>\n",
       "      <td>1</td>\n",
       "      <td>1</td>\n",
       "      <td>-1</td>\n",
       "      <td>-1</td>\n",
       "      <td>1</td>\n",
       "      <td>1</td>\n",
       "      <td>-1</td>\n",
       "      <td>0</td>\n",
       "      <td>9</td>\n",
       "    </tr>\n",
       "  </tbody>\n",
       "</table>\n",
       "</div>"
      ],
      "text/plain": [
       "     0  1  2  3  4  5  6  7  8  outcome  my_outcome  number_of_moves\n",
       "942  1  1 -1 -1  1  1  1 -1 -1       -1           0                9\n",
       "943  1  1 -1 -1 -1  1  1  1 -1       -1           0                9\n",
       "944  1  1 -1 -1 -1  1  1 -1  1       -1           0                9\n",
       "945  1 -1  1  1  1 -1 -1  1 -1       -1           0                9\n",
       "946  1 -1  1  1 -1  1 -1  1 -1       -1           0                9\n",
       "947  1 -1  1  1 -1 -1 -1  1  1       -1           0                9\n",
       "948  1 -1  1 -1  1  1 -1  1 -1       -1           0                9\n",
       "949  1 -1  1 -1 -1  1  1  1 -1       -1           0                9\n",
       "950  1 -1 -1 -1  1  1  1  1 -1       -1           0                9\n",
       "951 -1  1  1  1  1 -1 -1 -1  1       -1           0                9\n",
       "952 -1  1  1  1 -1 -1  1 -1  1       -1           0                9\n",
       "953 -1  1  1  1 -1 -1 -1  1  1       -1           0                9\n",
       "954 -1  1 -1  1  1 -1  1 -1  1       -1           0                9\n",
       "955 -1  1 -1  1 -1  1  1 -1  1       -1           0                9\n",
       "956 -1  1 -1 -1  1  1  1 -1  1       -1           0                9\n",
       "957 -1 -1  1  1  1 -1 -1  1  1       -1           0                9"
      ]
     },
     "execution_count": 17,
     "metadata": {},
     "output_type": "execute_result"
    }
   ],
   "source": [
    "# now we can distinguish the 12 draw configurations\n",
    "data_num[data_num.outcome != data_num.my_outcome]"
   ]
  },
  {
   "cell_type": "markdown",
   "metadata": {},
   "source": [
    "## Standard BM"
   ]
  },
  {
   "cell_type": "code",
   "execution_count": 18,
   "metadata": {},
   "outputs": [
    {
     "name": "stdout",
     "output_type": "stream",
     "text": [
      "(958, 9) (958, 2)\n"
     ]
    }
   ],
   "source": [
    "X = data_num.iloc[:, :9].to_numpy(dtype=float)\n",
    "y = data_num[[\"my_outcome\", \"number_of_moves\"]]\n",
    "\n",
    "print(X.shape, y.shape)"
   ]
  },
  {
   "cell_type": "code",
   "execution_count": 19,
   "metadata": {},
   "outputs": [
    {
     "data": {
      "image/png": "[encoded data removed]",
      "text/plain": [
       "<Figure size 640x480 with 1 Axes>"
      ]
     },
     "metadata": {},
     "output_type": "display_data"
    }
   ],
   "source": [
    "from sklearn.metrics import pairwise_distances\n",
    "\n",
    "plt.hist(\n",
    "    pairwise_distances(X, X, metric=\"euclidean\").flatten(), label=\"euclidean\", alpha=0.5\n",
    ")\n",
    "plt.hist(\n",
    "    pairwise_distances(X, X, metric=\"manhattan\").flatten(), label=\"manhattan\", alpha=0.5\n",
    ")\n",
    "plt.legend()\n",
    "plt.show()"
   ]
  },
  {
   "cell_type": "code",
   "execution_count": 20,
   "metadata": {},
   "outputs": [
    {
     "data": {
      "text/plain": [
       "array([0.        , 1.41421356, 1.73205081, 2.        , 2.23606798,\n",
       "       2.44948974, 2.64575131, 2.82842712, 3.        , 3.16227766,\n",
       "       3.31662479, 3.46410162, 3.60555128, 3.74165739, 3.87298335,\n",
       "       4.        , 4.12310563, 4.24264069, 4.35889894, 4.47213595,\n",
       "       4.58257569, 4.69041576, 4.79583152, 4.89897949, 5.        ,\n",
       "       5.09901951, 5.19615242, 5.38516481, 5.65685425, 5.74456265])"
      ]
     },
     "execution_count": 20,
     "metadata": {},
     "output_type": "execute_result"
    }
   ],
   "source": [
    "np.unique(pairwise_distances(X, X, metric=\"euclidean\").flatten())"
   ]
  },
  {
   "cell_type": "code",
   "execution_count": null,
   "metadata": {},
   "outputs": [],
   "source": [
    "np.unique(pairwise_distances(X, X, metric=\"manhattan\").flatten())"
   ]
  },
  {
   "cell_type": "markdown",
   "metadata": {},
   "source": [
    "### Euclidean BM"
   ]
  },
  {
   "cell_type": "code",
   "execution_count": null,
   "metadata": {},
   "outputs": [],
   "source": [
    "EPS_EUC = np.sqrt(3)  # connects at sqrt(3)\n",
    "\n",
    "ttt_euc_bm = BallMapper(\n",
    "    X=X,  # the pointcloud, as a numpy array\n",
    "    eps=EPS_EUC,\n",
    ")\n",
    "\n",
    "\n",
    "print(len(ttt_euc_bm.Graph.nodes))\n",
    "\n",
    "ttt_euc_bm.add_coloring(coloring_df=y[[\"my_outcome\"]])\n",
    "\n",
    "my_red_palette = cm.get_cmap(\"Reds\")\n",
    "my_euc_gui = graph_GUI(\n",
    "    ttt_euc_bm.Graph,\n",
    "    my_red_palette,\n",
    ")\n",
    "my_euc_gui.color_by_variable(\"my_outcome\")\n",
    "\n",
    "show(my_euc_gui.plot)"
   ]
  },
  {
   "cell_type": "markdown",
   "metadata": {},
   "source": [
    "### manhattan BM"
   ]
  },
  {
   "cell_type": "code",
   "execution_count": null,
   "metadata": {},
   "outputs": [],
   "source": [
    "# from scipy.spatial.distance import cityblock\n",
    "\n",
    "# EPS_CB = 3  # connects at 3\n",
    "\n",
    "# ttt_cb_bm = BallMapper(\n",
    "#     X=X, eps=EPS_CB, metric=cityblock  # the pointcloud, as a numpy array\n",
    "# )\n",
    "\n",
    "# print(len(ttt_cb_bm.Graph.nodes))\n",
    "\n",
    "# ttt_cb_bm.add_coloring(coloring_df=y[[\"my_outcome\"]])\n",
    "\n",
    "# my_red_palette = cm.get_cmap(\"Reds\")\n",
    "# my_euc_gui = graph_GUI(\n",
    "#     ttt_cb_bm.Graph,\n",
    "#     my_red_palette,\n",
    "# )\n",
    "# my_euc_gui.color_by_variable(\"my_outcome\")\n",
    "\n",
    "# show(my_euc_gui.plot)"
   ]
  },
  {
   "cell_type": "code",
   "execution_count": null,
   "metadata": {},
   "outputs": [],
   "source": [
    "nx.is_isomorphic(ttt_cb_bm.Graph, ttt_euc_bm.Graph)"
   ]
  },
  {
   "cell_type": "markdown",
   "metadata": {},
   "source": [
    "## Orbit 8"
   ]
  },
  {
   "cell_type": "code",
   "execution_count": 21,
   "metadata": {},
   "outputs": [
    {
     "name": "stdout",
     "output_type": "stream",
     "text": [
      "(958, 9) (958, 1)\n"
     ]
    }
   ],
   "source": [
    "X = data_num.iloc[:, :9].to_numpy(dtype=float)\n",
    "y = data_num[[\"my_outcome\"]]\n",
    "\n",
    "print(X.shape, y.shape)"
   ]
  },
  {
   "cell_type": "code",
   "execution_count": 22,
   "metadata": {},
   "outputs": [],
   "source": [
    "def are_equivalent(conf1, conf2):\n",
    "\n",
    "    to_check = [\n",
    "        conf2.tolist(),  # ID\n",
    "        np.rot90(conf2.reshape(3, 3), k=1).reshape(-1).tolist(),  # R 90\n",
    "        np.rot90(conf2.reshape(3, 3), k=2).reshape(-1).tolist(),  # R 180\n",
    "        np.rot90(conf2.reshape(3, 3), k=3).reshape(-1).tolist(),  # R 270\n",
    "        conf2.reshape(3, 3)[:, ::-1].reshape(-1).tolist(),  # L vertical\n",
    "        conf2.reshape(3, 3)[::-1, :].reshape(-1).tolist(),  # L horizontal\n",
    "        conf2.reshape(3, 3).T.reshape(-1).tolist(),  # L diagonal 1\n",
    "        conf2.reshape(3, 3)[::-1, ::-1]\n",
    "        .T.reshape(-1)\n",
    "        .tolist(),  # L diagonal 2 (rotate and transpose)\n",
    "    ]\n",
    "\n",
    "    if conf1.tolist() in to_check:\n",
    "        return True\n",
    "    else:\n",
    "        return False"
   ]
  },
  {
   "cell_type": "code",
   "execution_count": 23,
   "metadata": {},
   "outputs": [
    {
     "data": {
      "application/vnd.jupyter.widget-view+json": {
       "model_id": "d366de272d9a4840bf637e66b2b240b3",
       "version_major": 2,
       "version_minor": 0
      },
      "text/plain": [
       "  0%|          | 0/958 [00:00<?, ?it/s]"
      ]
     },
     "metadata": {},
     "output_type": "display_data"
    },
    {
     "name": "stderr",
     "output_type": "stream",
     "text": [
      "/var/folders/4s/_33kvc6507v69vbr_vy9xsjc0000gq/T/ipykernel_28195/401924797.py:10: SettingWithCopyWarning: \n",
      "A value is trying to be set on a copy of a slice from a DataFrame.\n",
      "Try using .loc[row_indexer,col_indexer] = value instead\n",
      "\n",
      "See the caveats in the documentation: https://pandas.pydata.org/pandas-docs/stable/user_guide/indexing.html#returning-a-view-versus-a-copy\n",
      "  y[\"orbit_id\"] = [min(o) for o in orbits]\n"
     ]
    }
   ],
   "source": [
    "orbits = []\n",
    "\n",
    "for conf1 in tqdm(X):\n",
    "    this_orbit = []\n",
    "    for i, conf2 in enumerate(X):\n",
    "        if are_equivalent(conf1, conf2):\n",
    "            this_orbit.append(i)\n",
    "    orbits.append(this_orbit)\n",
    "\n",
    "y[\"orbit_id\"] = [min(o) for o in orbits]"
   ]
  },
  {
   "cell_type": "code",
   "execution_count": 24,
   "metadata": {},
   "outputs": [
    {
     "data": {
      "text/plain": [
       "[[0, 23, 160, 388],\n",
       " [1, 22, 79, 158, 297, 328, 334, 376],\n",
       " [2, 21, 80, 115, 132, 176, 306, 378],\n",
       " [3, 26, 82, 199, 316, 478, 557, 616],\n",
       " [4, 25, 101, 197, 491, 544, 582, 584],\n",
       " [5, 24, 103, 161, 402, 480, 495, 614],\n",
       " [6, 55, 81, 278, 307, 415, 574, 598],\n",
       " [7, 54, 83, 251, 315, 453, 465, 470],\n",
       " [8, 53, 102, 249, 420, 440, 490, 569],\n",
       " [9, 36, 84, 202, 308, 416, 547, 572]]"
      ]
     },
     "execution_count": 24,
     "metadata": {},
     "output_type": "execute_result"
    }
   ],
   "source": [
    "orbits[:10]"
   ]
  },
  {
   "cell_type": "code",
   "execution_count": 71,
   "metadata": {},
   "outputs": [
    {
     "data": {
      "text/plain": [
       "len_orbit\n",
       "8    832\n",
       "4    120\n",
       "2      4\n",
       "1      2\n",
       "Name: count, dtype: int64"
      ]
     },
     "execution_count": 71,
     "metadata": {},
     "output_type": "execute_result"
    }
   ],
   "source": [
    "data_num[\"len_orbit\"] = [len(o) for o in orbits]\n",
    "\n",
    "data_num[\"len_orbit\"].value_counts()"
   ]
  },
  {
   "cell_type": "code",
   "execution_count": 72,
   "metadata": {},
   "outputs": [
    {
     "data": {
      "text/html": [
       "<div>\n",
       "<style scoped>\n",
       "    .dataframe tbody tr th:only-of-type {\n",
       "        vertical-align: middle;\n",
       "    }\n",
       "\n",
       "    .dataframe tbody tr th {\n",
       "        vertical-align: top;\n",
       "    }\n",
       "\n",
       "    .dataframe thead th {\n",
       "        text-align: right;\n",
       "    }\n",
       "</style>\n",
       "<table border=\"1\" class=\"dataframe\">\n",
       "  <thead>\n",
       "    <tr style=\"text-align: right;\">\n",
       "      <th></th>\n",
       "      <th>0</th>\n",
       "      <th>1</th>\n",
       "      <th>2</th>\n",
       "      <th>3</th>\n",
       "      <th>4</th>\n",
       "      <th>5</th>\n",
       "      <th>6</th>\n",
       "      <th>7</th>\n",
       "      <th>8</th>\n",
       "      <th>outcome</th>\n",
       "      <th>my_outcome</th>\n",
       "      <th>number_of_moves</th>\n",
       "      <th>orbit_id</th>\n",
       "      <th>len_orbit</th>\n",
       "    </tr>\n",
       "  </thead>\n",
       "  <tbody>\n",
       "    <tr>\n",
       "      <th>124</th>\n",
       "      <td>1</td>\n",
       "      <td>-1</td>\n",
       "      <td>1</td>\n",
       "      <td>-1</td>\n",
       "      <td>1</td>\n",
       "      <td>-1</td>\n",
       "      <td>1</td>\n",
       "      <td>-1</td>\n",
       "      <td>1</td>\n",
       "      <td>1</td>\n",
       "      <td>1</td>\n",
       "      <td>9</td>\n",
       "      <td>124</td>\n",
       "      <td>1</td>\n",
       "    </tr>\n",
       "    <tr>\n",
       "      <th>319</th>\n",
       "      <td>-1</td>\n",
       "      <td>1</td>\n",
       "      <td>-1</td>\n",
       "      <td>1</td>\n",
       "      <td>1</td>\n",
       "      <td>1</td>\n",
       "      <td>-1</td>\n",
       "      <td>1</td>\n",
       "      <td>-1</td>\n",
       "      <td>1</td>\n",
       "      <td>1</td>\n",
       "      <td>9</td>\n",
       "      <td>319</td>\n",
       "      <td>1</td>\n",
       "    </tr>\n",
       "  </tbody>\n",
       "</table>\n",
       "</div>"
      ],
      "text/plain": [
       "     0  1  2  3  4  5  6  7  8  outcome  my_outcome  number_of_moves  \\\n",
       "124  1 -1  1 -1  1 -1  1 -1  1        1           1                9   \n",
       "319 -1  1 -1  1  1  1 -1  1 -1        1           1                9   \n",
       "\n",
       "     orbit_id  len_orbit  \n",
       "124       124          1  \n",
       "319       319          1  "
      ]
     },
     "execution_count": 72,
     "metadata": {},
     "output_type": "execute_result"
    }
   ],
   "source": [
    "data_num[data_num[\"len_orbit\"] == 1]"
   ]
  },
  {
   "cell_type": "code",
   "execution_count": 73,
   "metadata": {},
   "outputs": [
    {
     "data": {
      "text/plain": [
       "array([[ 1., -1.,  1.],\n",
       "       [-1.,  1., -1.],\n",
       "       [ 1., -1.,  1.]])"
      ]
     },
     "execution_count": 73,
     "metadata": {},
     "output_type": "execute_result"
    }
   ],
   "source": [
    "X[124].reshape((3, 3))"
   ]
  },
  {
   "cell_type": "code",
   "execution_count": 74,
   "metadata": {},
   "outputs": [
    {
     "data": {
      "text/plain": [
       "array([[-1.,  1., -1.],\n",
       "       [ 1.,  1.,  1.],\n",
       "       [-1.,  1., -1.]])"
      ]
     },
     "execution_count": 74,
     "metadata": {},
     "output_type": "execute_result"
    }
   ],
   "source": [
    "X[319].reshape((3, 3))"
   ]
  },
  {
   "cell_type": "code",
   "execution_count": 25,
   "metadata": {},
   "outputs": [],
   "source": [
    "data_num[\"orbit_id\"] = [min(o) for o in orbits]"
   ]
  },
  {
   "cell_type": "code",
   "execution_count": 26,
   "metadata": {},
   "outputs": [
    {
     "data": {
      "text/html": [
       "<div>\n",
       "<style scoped>\n",
       "    .dataframe tbody tr th:only-of-type {\n",
       "        vertical-align: middle;\n",
       "    }\n",
       "\n",
       "    .dataframe tbody tr th {\n",
       "        vertical-align: top;\n",
       "    }\n",
       "\n",
       "    .dataframe thead th {\n",
       "        text-align: right;\n",
       "    }\n",
       "</style>\n",
       "<table border=\"1\" class=\"dataframe\">\n",
       "  <thead>\n",
       "    <tr style=\"text-align: right;\">\n",
       "      <th></th>\n",
       "      <th>0</th>\n",
       "      <th>1</th>\n",
       "      <th>2</th>\n",
       "      <th>3</th>\n",
       "      <th>4</th>\n",
       "      <th>5</th>\n",
       "      <th>6</th>\n",
       "      <th>7</th>\n",
       "      <th>8</th>\n",
       "      <th>outcome</th>\n",
       "      <th>my_outcome</th>\n",
       "      <th>number_of_moves</th>\n",
       "      <th>orbit_id</th>\n",
       "    </tr>\n",
       "  </thead>\n",
       "  <tbody>\n",
       "    <tr>\n",
       "      <th>0</th>\n",
       "      <td>1</td>\n",
       "      <td>1</td>\n",
       "      <td>1</td>\n",
       "      <td>1</td>\n",
       "      <td>-1</td>\n",
       "      <td>-1</td>\n",
       "      <td>1</td>\n",
       "      <td>-1</td>\n",
       "      <td>-1</td>\n",
       "      <td>1</td>\n",
       "      <td>1</td>\n",
       "      <td>9</td>\n",
       "      <td>0</td>\n",
       "    </tr>\n",
       "    <tr>\n",
       "      <th>1</th>\n",
       "      <td>1</td>\n",
       "      <td>1</td>\n",
       "      <td>1</td>\n",
       "      <td>1</td>\n",
       "      <td>-1</td>\n",
       "      <td>-1</td>\n",
       "      <td>-1</td>\n",
       "      <td>1</td>\n",
       "      <td>-1</td>\n",
       "      <td>1</td>\n",
       "      <td>1</td>\n",
       "      <td>9</td>\n",
       "      <td>1</td>\n",
       "    </tr>\n",
       "    <tr>\n",
       "      <th>2</th>\n",
       "      <td>1</td>\n",
       "      <td>1</td>\n",
       "      <td>1</td>\n",
       "      <td>1</td>\n",
       "      <td>-1</td>\n",
       "      <td>-1</td>\n",
       "      <td>-1</td>\n",
       "      <td>-1</td>\n",
       "      <td>1</td>\n",
       "      <td>1</td>\n",
       "      <td>1</td>\n",
       "      <td>9</td>\n",
       "      <td>2</td>\n",
       "    </tr>\n",
       "    <tr>\n",
       "      <th>3</th>\n",
       "      <td>1</td>\n",
       "      <td>1</td>\n",
       "      <td>1</td>\n",
       "      <td>1</td>\n",
       "      <td>-1</td>\n",
       "      <td>-1</td>\n",
       "      <td>-1</td>\n",
       "      <td>0</td>\n",
       "      <td>0</td>\n",
       "      <td>1</td>\n",
       "      <td>1</td>\n",
       "      <td>7</td>\n",
       "      <td>3</td>\n",
       "    </tr>\n",
       "    <tr>\n",
       "      <th>4</th>\n",
       "      <td>1</td>\n",
       "      <td>1</td>\n",
       "      <td>1</td>\n",
       "      <td>1</td>\n",
       "      <td>-1</td>\n",
       "      <td>-1</td>\n",
       "      <td>0</td>\n",
       "      <td>-1</td>\n",
       "      <td>0</td>\n",
       "      <td>1</td>\n",
       "      <td>1</td>\n",
       "      <td>7</td>\n",
       "      <td>4</td>\n",
       "    </tr>\n",
       "    <tr>\n",
       "      <th>...</th>\n",
       "      <td>...</td>\n",
       "      <td>...</td>\n",
       "      <td>...</td>\n",
       "      <td>...</td>\n",
       "      <td>...</td>\n",
       "      <td>...</td>\n",
       "      <td>...</td>\n",
       "      <td>...</td>\n",
       "      <td>...</td>\n",
       "      <td>...</td>\n",
       "      <td>...</td>\n",
       "      <td>...</td>\n",
       "      <td>...</td>\n",
       "    </tr>\n",
       "    <tr>\n",
       "      <th>953</th>\n",
       "      <td>-1</td>\n",
       "      <td>1</td>\n",
       "      <td>1</td>\n",
       "      <td>1</td>\n",
       "      <td>-1</td>\n",
       "      <td>-1</td>\n",
       "      <td>-1</td>\n",
       "      <td>1</td>\n",
       "      <td>1</td>\n",
       "      <td>-1</td>\n",
       "      <td>0</td>\n",
       "      <td>9</td>\n",
       "      <td>943</td>\n",
       "    </tr>\n",
       "    <tr>\n",
       "      <th>954</th>\n",
       "      <td>-1</td>\n",
       "      <td>1</td>\n",
       "      <td>-1</td>\n",
       "      <td>1</td>\n",
       "      <td>1</td>\n",
       "      <td>-1</td>\n",
       "      <td>1</td>\n",
       "      <td>-1</td>\n",
       "      <td>1</td>\n",
       "      <td>-1</td>\n",
       "      <td>0</td>\n",
       "      <td>9</td>\n",
       "      <td>942</td>\n",
       "    </tr>\n",
       "    <tr>\n",
       "      <th>955</th>\n",
       "      <td>-1</td>\n",
       "      <td>1</td>\n",
       "      <td>-1</td>\n",
       "      <td>1</td>\n",
       "      <td>-1</td>\n",
       "      <td>1</td>\n",
       "      <td>1</td>\n",
       "      <td>-1</td>\n",
       "      <td>1</td>\n",
       "      <td>-1</td>\n",
       "      <td>0</td>\n",
       "      <td>9</td>\n",
       "      <td>943</td>\n",
       "    </tr>\n",
       "    <tr>\n",
       "      <th>956</th>\n",
       "      <td>-1</td>\n",
       "      <td>1</td>\n",
       "      <td>-1</td>\n",
       "      <td>-1</td>\n",
       "      <td>1</td>\n",
       "      <td>1</td>\n",
       "      <td>1</td>\n",
       "      <td>-1</td>\n",
       "      <td>1</td>\n",
       "      <td>-1</td>\n",
       "      <td>0</td>\n",
       "      <td>9</td>\n",
       "      <td>942</td>\n",
       "    </tr>\n",
       "    <tr>\n",
       "      <th>957</th>\n",
       "      <td>-1</td>\n",
       "      <td>-1</td>\n",
       "      <td>1</td>\n",
       "      <td>1</td>\n",
       "      <td>1</td>\n",
       "      <td>-1</td>\n",
       "      <td>-1</td>\n",
       "      <td>1</td>\n",
       "      <td>1</td>\n",
       "      <td>-1</td>\n",
       "      <td>0</td>\n",
       "      <td>9</td>\n",
       "      <td>942</td>\n",
       "    </tr>\n",
       "  </tbody>\n",
       "</table>\n",
       "<p>958 rows × 13 columns</p>\n",
       "</div>"
      ],
      "text/plain": [
       "     0  1  2  3  4  5  6  7  8  outcome  my_outcome  number_of_moves  orbit_id\n",
       "0    1  1  1  1 -1 -1  1 -1 -1        1           1                9         0\n",
       "1    1  1  1  1 -1 -1 -1  1 -1        1           1                9         1\n",
       "2    1  1  1  1 -1 -1 -1 -1  1        1           1                9         2\n",
       "3    1  1  1  1 -1 -1 -1  0  0        1           1                7         3\n",
       "4    1  1  1  1 -1 -1  0 -1  0        1           1                7         4\n",
       "..  .. .. .. .. .. .. .. .. ..      ...         ...              ...       ...\n",
       "953 -1  1  1  1 -1 -1 -1  1  1       -1           0                9       943\n",
       "954 -1  1 -1  1  1 -1  1 -1  1       -1           0                9       942\n",
       "955 -1  1 -1  1 -1  1  1 -1  1       -1           0                9       943\n",
       "956 -1  1 -1 -1  1  1  1 -1  1       -1           0                9       942\n",
       "957 -1 -1  1  1  1 -1 -1  1  1       -1           0                9       942\n",
       "\n",
       "[958 rows x 13 columns]"
      ]
     },
     "execution_count": 26,
     "metadata": {},
     "output_type": "execute_result"
    }
   ],
   "source": [
    "data_num"
   ]
  },
  {
   "cell_type": "code",
   "execution_count": 68,
   "metadata": {},
   "outputs": [
    {
     "data": {
      "text/plain": [
       "my_outcome\n",
       " 1    626\n",
       "-1    316\n",
       " 0     16\n",
       "Name: count, dtype: int64"
      ]
     },
     "execution_count": 68,
     "metadata": {},
     "output_type": "execute_result"
    }
   ],
   "source": [
    "data_num.my_outcome.value_counts()"
   ]
  },
  {
   "cell_type": "code",
   "execution_count": 27,
   "metadata": {},
   "outputs": [
    {
     "data": {
      "text/plain": [
       "4"
      ]
     },
     "execution_count": 27,
     "metadata": {},
     "output_type": "execute_result"
    }
   ],
   "source": [
    "data_num.orbit_id.value_counts()[0]"
   ]
  },
  {
   "cell_type": "code",
   "execution_count": 28,
   "metadata": {},
   "outputs": [
    {
     "data": {
      "text/html": [
       "<div>\n",
       "<style scoped>\n",
       "    .dataframe tbody tr th:only-of-type {\n",
       "        vertical-align: middle;\n",
       "    }\n",
       "\n",
       "    .dataframe tbody tr th {\n",
       "        vertical-align: top;\n",
       "    }\n",
       "\n",
       "    .dataframe thead th {\n",
       "        text-align: right;\n",
       "    }\n",
       "</style>\n",
       "<table border=\"1\" class=\"dataframe\">\n",
       "  <thead>\n",
       "    <tr style=\"text-align: right;\">\n",
       "      <th></th>\n",
       "      <th>0</th>\n",
       "      <th>1</th>\n",
       "      <th>2</th>\n",
       "      <th>3</th>\n",
       "      <th>4</th>\n",
       "      <th>5</th>\n",
       "      <th>6</th>\n",
       "      <th>7</th>\n",
       "      <th>8</th>\n",
       "      <th>outcome</th>\n",
       "      <th>my_outcome</th>\n",
       "      <th>number_of_moves</th>\n",
       "      <th>orbit_id</th>\n",
       "    </tr>\n",
       "  </thead>\n",
       "  <tbody>\n",
       "    <tr>\n",
       "      <th>33</th>\n",
       "      <td>1</td>\n",
       "      <td>1</td>\n",
       "      <td>1</td>\n",
       "      <td>-1</td>\n",
       "      <td>-1</td>\n",
       "      <td>0</td>\n",
       "      <td>0</td>\n",
       "      <td>0</td>\n",
       "      <td>0</td>\n",
       "      <td>1</td>\n",
       "      <td>1</td>\n",
       "      <td>5</td>\n",
       "      <td>33</td>\n",
       "    </tr>\n",
       "    <tr>\n",
       "      <th>43</th>\n",
       "      <td>1</td>\n",
       "      <td>1</td>\n",
       "      <td>1</td>\n",
       "      <td>-1</td>\n",
       "      <td>0</td>\n",
       "      <td>-1</td>\n",
       "      <td>0</td>\n",
       "      <td>0</td>\n",
       "      <td>0</td>\n",
       "      <td>1</td>\n",
       "      <td>1</td>\n",
       "      <td>5</td>\n",
       "      <td>43</td>\n",
       "    </tr>\n",
       "    <tr>\n",
       "      <th>47</th>\n",
       "      <td>1</td>\n",
       "      <td>1</td>\n",
       "      <td>1</td>\n",
       "      <td>-1</td>\n",
       "      <td>0</td>\n",
       "      <td>0</td>\n",
       "      <td>-1</td>\n",
       "      <td>0</td>\n",
       "      <td>0</td>\n",
       "      <td>1</td>\n",
       "      <td>1</td>\n",
       "      <td>5</td>\n",
       "      <td>47</td>\n",
       "    </tr>\n",
       "    <tr>\n",
       "      <th>48</th>\n",
       "      <td>1</td>\n",
       "      <td>1</td>\n",
       "      <td>1</td>\n",
       "      <td>-1</td>\n",
       "      <td>0</td>\n",
       "      <td>0</td>\n",
       "      <td>0</td>\n",
       "      <td>-1</td>\n",
       "      <td>0</td>\n",
       "      <td>1</td>\n",
       "      <td>1</td>\n",
       "      <td>5</td>\n",
       "      <td>48</td>\n",
       "    </tr>\n",
       "    <tr>\n",
       "      <th>49</th>\n",
       "      <td>1</td>\n",
       "      <td>1</td>\n",
       "      <td>1</td>\n",
       "      <td>-1</td>\n",
       "      <td>0</td>\n",
       "      <td>0</td>\n",
       "      <td>0</td>\n",
       "      <td>0</td>\n",
       "      <td>-1</td>\n",
       "      <td>1</td>\n",
       "      <td>1</td>\n",
       "      <td>5</td>\n",
       "      <td>49</td>\n",
       "    </tr>\n",
       "    <tr>\n",
       "      <th>...</th>\n",
       "      <td>...</td>\n",
       "      <td>...</td>\n",
       "      <td>...</td>\n",
       "      <td>...</td>\n",
       "      <td>...</td>\n",
       "      <td>...</td>\n",
       "      <td>...</td>\n",
       "      <td>...</td>\n",
       "      <td>...</td>\n",
       "      <td>...</td>\n",
       "      <td>...</td>\n",
       "      <td>...</td>\n",
       "      <td>...</td>\n",
       "    </tr>\n",
       "    <tr>\n",
       "      <th>621</th>\n",
       "      <td>0</td>\n",
       "      <td>0</td>\n",
       "      <td>0</td>\n",
       "      <td>1</td>\n",
       "      <td>1</td>\n",
       "      <td>1</td>\n",
       "      <td>-1</td>\n",
       "      <td>0</td>\n",
       "      <td>-1</td>\n",
       "      <td>1</td>\n",
       "      <td>1</td>\n",
       "      <td>5</td>\n",
       "      <td>362</td>\n",
       "    </tr>\n",
       "    <tr>\n",
       "      <th>622</th>\n",
       "      <td>0</td>\n",
       "      <td>0</td>\n",
       "      <td>0</td>\n",
       "      <td>1</td>\n",
       "      <td>1</td>\n",
       "      <td>1</td>\n",
       "      <td>0</td>\n",
       "      <td>-1</td>\n",
       "      <td>-1</td>\n",
       "      <td>1</td>\n",
       "      <td>1</td>\n",
       "      <td>5</td>\n",
       "      <td>355</td>\n",
       "    </tr>\n",
       "    <tr>\n",
       "      <th>623</th>\n",
       "      <td>0</td>\n",
       "      <td>0</td>\n",
       "      <td>0</td>\n",
       "      <td>-1</td>\n",
       "      <td>-1</td>\n",
       "      <td>0</td>\n",
       "      <td>1</td>\n",
       "      <td>1</td>\n",
       "      <td>1</td>\n",
       "      <td>1</td>\n",
       "      <td>1</td>\n",
       "      <td>5</td>\n",
       "      <td>33</td>\n",
       "    </tr>\n",
       "    <tr>\n",
       "      <th>624</th>\n",
       "      <td>0</td>\n",
       "      <td>0</td>\n",
       "      <td>0</td>\n",
       "      <td>-1</td>\n",
       "      <td>0</td>\n",
       "      <td>-1</td>\n",
       "      <td>1</td>\n",
       "      <td>1</td>\n",
       "      <td>1</td>\n",
       "      <td>1</td>\n",
       "      <td>1</td>\n",
       "      <td>5</td>\n",
       "      <td>43</td>\n",
       "    </tr>\n",
       "    <tr>\n",
       "      <th>625</th>\n",
       "      <td>0</td>\n",
       "      <td>0</td>\n",
       "      <td>0</td>\n",
       "      <td>0</td>\n",
       "      <td>-1</td>\n",
       "      <td>-1</td>\n",
       "      <td>1</td>\n",
       "      <td>1</td>\n",
       "      <td>1</td>\n",
       "      <td>1</td>\n",
       "      <td>1</td>\n",
       "      <td>5</td>\n",
       "      <td>33</td>\n",
       "    </tr>\n",
       "  </tbody>\n",
       "</table>\n",
       "<p>120 rows × 13 columns</p>\n",
       "</div>"
      ],
      "text/plain": [
       "     0  1  2  3  4  5  6  7  8  outcome  my_outcome  number_of_moves  orbit_id\n",
       "33   1  1  1 -1 -1  0  0  0  0        1           1                5        33\n",
       "43   1  1  1 -1  0 -1  0  0  0        1           1                5        43\n",
       "47   1  1  1 -1  0  0 -1  0  0        1           1                5        47\n",
       "48   1  1  1 -1  0  0  0 -1  0        1           1                5        48\n",
       "49   1  1  1 -1  0  0  0  0 -1        1           1                5        49\n",
       "..  .. .. .. .. .. .. .. .. ..      ...         ...              ...       ...\n",
       "621  0  0  0  1  1  1 -1  0 -1        1           1                5       362\n",
       "622  0  0  0  1  1  1  0 -1 -1        1           1                5       355\n",
       "623  0  0  0 -1 -1  0  1  1  1        1           1                5        33\n",
       "624  0  0  0 -1  0 -1  1  1  1        1           1                5        43\n",
       "625  0  0  0  0 -1 -1  1  1  1        1           1                5        33\n",
       "\n",
       "[120 rows x 13 columns]"
      ]
     },
     "execution_count": 28,
     "metadata": {},
     "output_type": "execute_result"
    }
   ],
   "source": [
    "data_num[data_num.number_of_moves == 5]"
   ]
  },
  {
   "cell_type": "markdown",
   "metadata": {},
   "source": [
    "### Euclidean"
   ]
  },
  {
   "cell_type": "code",
   "execution_count": 82,
   "metadata": {},
   "outputs": [
    {
     "name": "stdout",
     "output_type": "stream",
     "text": [
      "color by variable number_of_moves \n",
      "MIN_VALUE: 6.241, MAX_VALUE: 8.200\n"
     ]
    }
   ],
   "source": [
    "EPS_EQ = np.sqrt(5)\n",
    "\n",
    "ttt_euc_bm_EQ = BallMapper(\n",
    "    X=X,  # the pointcloud, as a numpy array\n",
    "    eps=EPS_EQ,\n",
    "    orbits=orbits,\n",
    ")  # the radius of the balls\n",
    "\n",
    "ttt_euc_bm_EQ.add_coloring(data_num[[\"my_outcome\", \"orbit_id\", \"number_of_moves\"]])\n",
    "\n",
    "my_palette = cm.get_cmap(\"tab10\")\n",
    "\n",
    "my_euc_gui = graph_GUI(\n",
    "    ttt_euc_bm_EQ.Graph,\n",
    "    my_palette,\n",
    "    [\"my_outcome\", \"orbit_id\", \"number_of_moves\"],\n",
    ")\n",
    "# title='ttt Euclidean BM with all symms eps={}'.format(EPS_EQ))\n",
    "my_euc_gui.color_by_variable(\"number_of_moves\")\n",
    "\n",
    "show(my_euc_gui.plot)"
   ]
  },
  {
   "cell_type": "code",
   "execution_count": 76,
   "metadata": {},
   "outputs": [
    {
     "data": {
      "text/plain": [
       "{'landmark': 324,\n",
       " 'points covered': array([324, 325, 326, 339, 341, 342, 348, 360, 361, 362, 499, 511, 512,\n",
       "        513, 523]),\n",
       " 'size': 15,\n",
       " 'my_outcome': 1.0,\n",
       " 'orbit_id': 262.6,\n",
       " 'number_of_moves': 6.333333333333333,\n",
       " 'size rescaled': 17.344827586206897,\n",
       " 'color': '#1f77b4'}"
      ]
     },
     "execution_count": 76,
     "metadata": {},
     "output_type": "execute_result"
    }
   ],
   "source": [
    "ttt_euc_bm_EQ.Graph.nodes[41]"
   ]
  },
  {
   "cell_type": "code",
   "execution_count": 26,
   "metadata": {},
   "outputs": [
    {
     "data": {
      "text/plain": [
       "array([[ 1.,  1.,  1.],\n",
       "       [ 1., -1.,  0.],\n",
       "       [ 0., -1., -1.]])"
      ]
     },
     "execution_count": 26,
     "metadata": {},
     "output_type": "execute_result"
    }
   ],
   "source": [
    "X[8].reshape((3, 3))"
   ]
  },
  {
   "cell_type": "code",
   "execution_count": 27,
   "metadata": {},
   "outputs": [
    {
     "data": {
      "text/plain": [
       "array([[ 1.,  1.,  1.],\n",
       "       [-1.,  1.,  0.],\n",
       "       [ 0., -1., -1.]])"
      ]
     },
     "execution_count": 27,
     "metadata": {},
     "output_type": "execute_result"
    }
   ],
   "source": [
    "X[20].reshape((3, 3))"
   ]
  },
  {
   "cell_type": "code",
   "execution_count": 28,
   "metadata": {},
   "outputs": [
    {
     "ename": "NameError",
     "evalue": "name 'pairwise_distances' is not defined",
     "output_type": "error",
     "traceback": [
      "\u001b[0;31m---------------------------------------------------------------------------\u001b[0m",
      "\u001b[0;31mNameError\u001b[0m                                 Traceback (most recent call last)",
      "Cell \u001b[0;32mIn[28], line 1\u001b[0m\n\u001b[0;32m----> 1\u001b[0m \u001b[43mpairwise_distances\u001b[49m([X[\u001b[38;5;241m8\u001b[39m], X[\u001b[38;5;241m20\u001b[39m]], [X[\u001b[38;5;241m77\u001b[39m]])\n",
      "\u001b[0;31mNameError\u001b[0m: name 'pairwise_distances' is not defined"
     ]
    }
   ],
   "source": [
    "pairwise_distances([X[8], X[20]], [X[77]])"
   ]
  },
  {
   "cell_type": "markdown",
   "metadata": {},
   "source": [
    "### Cityblock"
   ]
  },
  {
   "cell_type": "code",
   "execution_count": null,
   "metadata": {},
   "outputs": [],
   "source": [
    "# EPS_CB = 3\n",
    "\n",
    "# ttt_cb_bm_EQ = BallMapper(\n",
    "#     X=X, eps=EPS_CB, orbits=orbits, metric=cityblock  # the pointcloud, as a numpy array\n",
    "# )\n",
    "\n",
    "# ttt_cb_bm_EQ.add_coloring(data_num[[\"my_outcome\", \"orbit_id\", \"number_of_moves\"]])\n",
    "\n",
    "# my_palette = cm.get_cmap(\"Reds_r\")\n",
    "\n",
    "# my_euc_gui = graph_GUI(\n",
    "#     ttt_cb_bm_EQ.Graph,\n",
    "#     my_palette,\n",
    "#     [\"my_outcome\", \"orbit_id\", \"number_of_moves\"],\n",
    "# )\n",
    "# # title='ttt Euclidean BM with all symms eps={}'.format(EPS_CB))\n",
    "# my_euc_gui.color_by_variable(\"my_outcome\")\n",
    "\n",
    "# show(my_euc_gui.plot)"
   ]
  },
  {
   "cell_type": "code",
   "execution_count": null,
   "metadata": {},
   "outputs": [],
   "source": [
    "### Check they are the same\n",
    "nx.is_isomorphic(ttt_cb_bm_EQ.Graph, ttt_euc_bm_EQ.Graph)"
   ]
  },
  {
   "cell_type": "markdown",
   "metadata": {},
   "source": [
    "## Color by orbits"
   ]
  },
  {
   "cell_type": "code",
   "execution_count": 36,
   "metadata": {},
   "outputs": [
    {
     "data": {
      "text/plain": [
       "{626: 0, 629: 1, 640: 2, 643: 3, 651: 4, 657: 5, 659: 6, 663: 7, 665: 8}"
      ]
     },
     "execution_count": 36,
     "metadata": {},
     "output_type": "execute_result"
    }
   ],
   "source": [
    "## count how many different orbits in the BM\n",
    "\n",
    "orbits_id_dict = {}\n",
    "\n",
    "i = 0\n",
    "for node in ttt_euc_bm_EQ.Graph.nodes:\n",
    "    landmark = ttt_euc_bm_EQ.landmarks[node]\n",
    "    if (y.orbit_id[landmark] not in orbits_id_dict) and (\n",
    "        ttt_euc_bm_EQ.Graph.nodes[node][\"my_outcome\"]\n",
    "        == -1  # color only the winning cluster\n",
    "    ):\n",
    "        orbits_id_dict[y.orbit_id[landmark]] = i\n",
    "        i += 1\n",
    "\n",
    "orbits_id_dict"
   ]
  },
  {
   "cell_type": "code",
   "execution_count": 37,
   "metadata": {},
   "outputs": [
    {
     "data": {
      "text/plain": [
       "{626: 6, 629: 0, 640: 1, 643: 5, 651: 2, 657: 8, 659: 7, 663: 4, 665: 3}"
      ]
     },
     "execution_count": 37,
     "metadata": {},
     "output_type": "execute_result"
    }
   ],
   "source": [
    "## shuffle the colors\n",
    "rng = np.random.default_rng(seed=24)\n",
    "shuffle = rng.choice(len(orbits_id_dict), len(orbits_id_dict), replace=False)\n",
    "\n",
    "\n",
    "for i, key in enumerate(orbits_id_dict.keys()):\n",
    "    orbits_id_dict[key] = shuffle[i]\n",
    "\n",
    "orbits_id_dict"
   ]
  },
  {
   "cell_type": "code",
   "execution_count": 38,
   "metadata": {},
   "outputs": [
    {
     "data": {
      "image/png": "[encoded data removed]",
      "text/html": [
       "<div style=\"vertical-align: middle;\"><strong>from_list</strong> </div><div class=\"cmap\"><img alt=\"from_list colormap\" title=\"from_list\" style=\"border: 1px solid #555;\" src=\"data:image/png;base64,iVBORw0KGgoAAAANSUhEUgAAAgAAAABACAYAAABsv8+/AAAAGHRFWHRUaXRsZQBmcm9tX2xpc3QgY29sb3JtYXBDL89FAAAAHnRFWHREZXNjcmlwdGlvbgBmcm9tX2xpc3QgY29sb3JtYXABtCnOAAAAMHRFWHRBdXRob3IATWF0cGxvdGxpYiB2My44LjQsIGh0dHBzOi8vbWF0cGxvdGxpYi5vcmdkzrK0AAAAMnRFWHRTb2Z0d2FyZQBNYXRwbG90bGliIHYzLjguNCwgaHR0cHM6Ly9tYXRwbG90bGliLm9yZ0poLZMAAAFySURBVHic7dahTQNgGABRyiK4EgQOSYpFwgIdgDRNUIyBqmWKCrZgCuaAKX6+hHtvgpO3uXo7/1z8c+9Pd9MJyz1/bqcT1rt/mS5Y7vb7PJ2w1OFhP52w3O7xYzphuZvX43TCcqev6+mE5S6nAwCAv2cAACDIAABAkAEAgCADAABBBgAAggwAAAQZAAAIMgAAEGQAACDIAABAkAEAgCADAABBBgAAggwAAAQZAAAIMgAAEGQAACDIAABAkAEAgCADAABBBgAAggwAAAQZAAAIMgAAEGQAACDIAABAkAEAgCADAABBBgAAggwAAAQZAAAIMgAAEGQAACDIAABAkAEAgCADAABBBgAAggwAAAQZAAAIMgAAEGQAACDIAABAkAEAgCADAABBBgAAggwAAAQZAAAIMgAAEGQAACDIAABAkAEAgCADAABBBgAAggwAAAQZAAAIMgAAEGQAACDIAABAkAEAgCADAABBBgAAggwAAAT9Ah0uDDfC+dnjAAAAAElFTkSuQmCC\"></div><div style=\"vertical-align: middle; max-width: 514px; display: flex; justify-content: space-between;\"><div style=\"float: left;\"><div title=\"#1f77b4ff\" style=\"display: inline-block; width: 1em; height: 1em; margin: 0; vertical-align: middle; border: 1px solid #555; background-color: #1f77b4ff;\"></div> under</div><div style=\"margin: 0 auto; display: inline-block;\">bad <div title=\"#00000000\" style=\"display: inline-block; width: 1em; height: 1em; margin: 0; vertical-align: middle; border: 1px solid #555; background-color: #00000000;\"></div></div><div style=\"float: right;\">over <div title=\"#9467bdff\" style=\"display: inline-block; width: 1em; height: 1em; margin: 0; vertical-align: middle; border: 1px solid #555; background-color: #9467bdff;\"></div></div>"
      ],
      "text/plain": [
       "<matplotlib.colors.ListedColormap at 0x15d07c5c0>"
      ]
     },
     "execution_count": 38,
     "metadata": {},
     "output_type": "execute_result"
    }
   ],
   "source": [
    "N = len(orbits_id_dict)\n",
    "my_palette = matplotlib.colors.ListedColormap(sns.color_palette(\"tab20\", N))\n",
    "my_palette"
   ]
  },
  {
   "cell_type": "code",
   "execution_count": 39,
   "metadata": {},
   "outputs": [
    {
     "data": {
      "text/plain": [
       "9"
      ]
     },
     "execution_count": 39,
     "metadata": {},
     "output_type": "execute_result"
    }
   ],
   "source": [
    "N"
   ]
  },
  {
   "cell_type": "code",
   "execution_count": 40,
   "metadata": {},
   "outputs": [],
   "source": [
    "my_euc_gui.my_palette = my_palette\n",
    "\n",
    "for node in my_euc_gui.bokeh_graph.nodes:\n",
    "    landmark = ttt_euc_bm_EQ.landmarks[node]\n",
    "    my_euc_gui.bokeh_graph.nodes[node][\"color\"] = matplotlib.colors.to_hex(\n",
    "        my_euc_gui.my_palette(orbits_id_dict.get(y.orbit_id[landmark], 99) / N)\n",
    "    )\n",
    "\n",
    "    my_euc_gui.bokeh_graph.nodes[node][\"orbit_id\"] = y.orbit_id[landmark]\n",
    "\n",
    "\n",
    "my_euc_gui.graph_renderer.node_renderer.data_source.data[\"color\"] = [\n",
    "    my_euc_gui.bokeh_graph.nodes[n][\"color\"] for n in my_euc_gui.bokeh_graph.nodes\n",
    "]\n",
    "my_euc_gui.graph_renderer.node_renderer.data_source.data[\"orbit_id\"] = [\n",
    "    my_euc_gui.bokeh_graph.nodes[n][\"orbit_id\"] for n in my_euc_gui.bokeh_graph.nodes\n",
    "]\n",
    "\n",
    "show(my_euc_gui.plot)"
   ]
  },
  {
   "cell_type": "markdown",
   "metadata": {},
   "source": [
    "## interactive VIZ"
   ]
  },
  {
   "cell_type": "code",
   "execution_count": 83,
   "metadata": {},
   "outputs": [],
   "source": [
    "from matplotlib.colors import to_rgb"
   ]
  },
  {
   "cell_type": "code",
   "execution_count": 62,
   "metadata": {},
   "outputs": [],
   "source": [
    "from pyballmapper.plotting import kmapper_visualize\n",
    "\n",
    "kmapper_visualize(\n",
    "    ttt_euc_bm_EQ,\n",
    "    coloring_df=data_num[[\"my_outcome\", \"orbit_id\", \"number_of_moves\"]],\n",
    "    path_html=\"output.html\",\n",
    ")"
   ]
  },
  {
   "cell_type": "code",
   "execution_count": 63,
   "metadata": {},
   "outputs": [],
   "source": [
    "colorscale_default = [  # Viridis\n",
    "    [0.0, \"rgb(68, 1, 84)\"],\n",
    "    [0.1, \"rgb(72, 35, 116)\"],\n",
    "    [0.2, \"rgb(64, 67, 135)\"],\n",
    "    [0.3, \"rgb(52, 94, 141)\"],\n",
    "    [0.4, \"rgb(41, 120, 142)\"],\n",
    "    [0.5, \"rgb(32, 144, 140)\"],\n",
    "    [0.6, \"rgb(34, 167, 132)\"],\n",
    "    [0.7, \"rgb(68, 190, 112)\"],\n",
    "    [0.8, \"rgb(121, 209, 81)\"],\n",
    "    [0.9, \"rgb(189, 222, 38)\"],\n",
    "    [1.0, \"rgb(253, 231, 36)\"],\n",
    "]"
   ]
  },
  {
   "cell_type": "code",
   "execution_count": 64,
   "metadata": {},
   "outputs": [
    {
     "data": {
      "text/plain": [
       "[[0.0, 'rgb(255, 245, 240)'],\n",
       " [0.1, 'rgb(254, 229, 216)'],\n",
       " [0.2, 'rgb(253, 202, 181)'],\n",
       " [0.3, 'rgb(252, 171, 143)'],\n",
       " [0.4, 'rgb(252, 138, 106)'],\n",
       " [0.5, 'rgb(251, 105, 74)'],\n",
       " [0.6, 'rgb(241, 68, 50)'],\n",
       " [0.7, 'rgb(217, 37, 35)'],\n",
       " [0.8, 'rgb(188, 20, 26)'],\n",
       " [0.9, 'rgb(152, 12, 19)'],\n",
       " [1.0, 'rgb(103, 0, 13)']]"
      ]
     },
     "execution_count": 64,
     "metadata": {},
     "output_type": "execute_result"
    }
   ],
   "source": [
    "colorscale_red = [\n",
    "    [\n",
    "        i / 10,\n",
    "        \"rgb{}\".format(\n",
    "            tuple((round(f * 255) for f in cm.get_cmap(\"Reds\")(i / 10)[:3]))\n",
    "        ),\n",
    "    ]\n",
    "    for i in range(0, 11)\n",
    "]\n",
    "colorscale_red"
   ]
  },
  {
   "cell_type": "code",
   "execution_count": 65,
   "metadata": {},
   "outputs": [
    {
     "name": "stdout",
     "output_type": "stream",
     "text": [
      "b\"\\x89PNG\\r\\n\\x1a\\n\\x00\\x00\\x00\\rIHDR\\x00\\x00\\x01,\\x00\\x00\\x01,\\x08\\x06\\x00\\x00\\x00y}\\x8eu\\x00\\x00\\x009tEXtSoftware\\x00Matplotlib version3.8.4, https://matplotlib.org/\\x1f%#u\\x00\\x00\\x00\\tpHYs\\x00\\x00\\x0fa\\x00\\x00\\x0fa\\x01\\xa8?\\xa7i\\x00\\x00\\x04(IDATx\\x9c\\xed\\xd6\\xc1iCQ\\x0cEA?\\xe3\\xf2\\x92\\x9e~JJ\\x81Ai\\xc0\\x01/\\x02\\xe2\\xe0\\x99\\x06tW\\x07\\x9d\\x99\\x99\\x1b@\\xc0}{\\x00\\xc0\\xab\\x04\\x0b\\xc8\\x10, C\\xb0\\x80\\x0c\\xc1\\x022\\x04\\x0b\\xc8\\x10, C\\xb0\\x80\\x0c\\xc1\\x022\\x04\\x0b\\xc8\\x10, C\\xb0\\x80\\x0c\\xc1\\x022\\x04\\x0b\\xc8\\x10, C\\xb0\\x80\\x0c\\xc1\\x022\\x04\\x0b\\xc8\\x10, C\\xb0\\x80\\x0c\\xc1\\x022\\x04\\x0b\\xc8\\x10, C\\xb0\\x80\\x0c\\xc1\\x022\\x04\\x0b\\xc8\\x10, C\\xb0\\x80\\x0c\\xc1\\x022\\x04\\x0b\\xc8\\x10, C\\xb0\\x80\\x0c\\xc1\\x022\\x04\\x0b\\xc8\\x10, \\xe3\\xb1=\\xe0/\\xd79\\xdb\\x13\\x80'\\xae\\x99\\xb5\\xdb>, C\\xb0\\x80\\x0c\\xc1\\x022\\x04\\x0b\\xc8\\x10, C\\xb0\\x80\\x0c\\xc1\\x022\\x04\\x0b\\xc8\\x10, C\\xb0\\x80\\x0c\\xc1\\x022\\x04\\x0b\\xc8\\x10, C\\xb0\\x80\\x0c\\xc1\\x022\\x04\\x0b\\xc8\\x10, C\\xb0\\x80\\x0c\\xc1\\x022\\x04\\x0b\\xc8\\x10, C\\xb0\\x80\\x0c\\xc1\\x022\\x04\\x0b\\xc8\\x10, C\\xb0\\x80\\x0c\\xc1\\x022\\x04\\x0b\\xc8\\x10, C\\xb0\\x80\\x0c\\xc1\\x022\\x04\\x0b\\xc8\\x10, C\\xb0\\x80\\x0c\\xc1\\x022\\x04\\x0b\\xc8\\x10, C\\xb0\\x80\\x0c\\xc1\\x022\\x04\\x0b\\xc8\\x10, C\\xb0\\x80\\x0c\\xc1\\x022\\x04\\x0b\\xc8\\x10, C\\xb0\\x80\\x0c\\xc1\\x022\\x04\\x0b\\xc8\\x10, C\\xb0\\x80\\x0c\\xc1\\x022\\x04\\x0b\\xc8\\x10, C\\xb0\\x80\\x0c\\xc1\\x022\\x04\\x0b\\xc8\\x10, C\\xb0\\x80\\x0c\\xc1\\x022\\x04\\x0b\\xc8\\x10, C\\xb0\\x80\\x0c\\xc1\\x022\\x04\\x0b\\xc8\\x10, C\\xb0\\x80\\x0c\\xc1\\x022\\x04\\x0b\\xc8\\x10, C\\xb0\\x80\\x0c\\xc1\\x022\\x04\\x0b\\xc8\\x10, C\\xb0\\x80\\x0c\\xc1\\x022\\x04\\x0b\\xc8xl\\x0f\\xe0\\xff|\\xdd>\\xb6'\\xf0\\x06\\xae\\xc5\\xdb>, C\\xb0\\x80\\x0c\\xc1\\x022\\x04\\x0b\\xc8\\x10, C\\xb0\\x80\\x0c\\xc1\\x022\\x04\\x0b\\xc8\\x10, C\\xb0\\x80\\x0c\\xc1\\x022\\x04\\x0b\\xc8\\x10, C\\xb0\\x80\\x0c\\xc1\\x022\\x04\\x0b\\xc8\\x10, C\\xb0\\x80\\x0c\\xc1\\x022\\x04\\x0b\\xc8\\x10, C\\xb0\\x80\\x0c\\xc1\\x022\\x04\\x0b\\xc8\\x10, C\\xb0\\x80\\x0c\\xc1\\x022\\x04\\x0b\\xc8\\x10, C\\xb0\\x80\\x0c\\xc1\\x022\\x04\\x0b\\xc8\\x10, C\\xb0\\x80\\x0c\\xc1\\x022\\x04\\x0b\\xc8\\x10, C\\xb0\\x80\\x0c\\xc1\\x022\\x04\\x0b\\xc8\\x10, C\\xb0\\x80\\x0c\\xc1\\x022\\x04\\x0b\\xc8\\x10, C\\xb0\\x80\\x0c\\xc1\\x022\\x04\\x0b\\xc8\\x10, C\\xb0\\x80\\x0c\\xc1\\x022\\x04\\x0b\\xc8\\x10, C\\xb0\\x80\\x0c\\xc1\\x022\\x04\\x0b\\xc8\\x10, C\\xb0\\x80\\x0c\\xc1\\x022\\x04\\x0b\\xc8\\x10, C\\xb0\\x80\\x0c\\xc1\\x022\\x04\\x0b\\xc8\\x10, C\\xb0\\x80\\x0c\\xc1\\x022\\x04\\x0b\\xc8\\x10, C\\xb0\\x80\\x0c\\xc1\\x022\\x04\\x0b\\xc8\\x10, C\\xb0\\x80\\x0c\\xc1\\x022\\x04\\x0b\\xc8833\\xdb#\\x9e9\\xe7s{B\\xce\\xfc|oO\\xe0\\x1d\\xdc\\xf7\\xfe\\x1c\\x1f\\x16\\x90!X@\\x86`\\x01\\x19\\x82\\x05d\\x08\\x16\\x90!X@\\x86`\\x01\\x19\\x82\\x05d\\x08\\x16\\x90!X@\\x86`\\x01\\x19\\x82\\x05d\\x08\\x16\\x90!X@\\x86`\\x01\\x19\\x82\\x05d\\x08\\x16\\x90!X@\\x86`\\x01\\x19\\x82\\x05d\\x08\\x16\\x90!X@\\x86`\\x01\\x19\\x82\\x05d\\x08\\x16\\x90!X@\\x86`\\x01\\x19\\x82\\x05d\\x08\\x16\\x90!X@\\x86`\\x01\\x19\\x82\\x05d\\x08\\x16\\x90!X@\\x86`\\x01\\x19\\x82\\x05d\\x08\\x16\\x90!X@\\x86`\\x01\\x19\\x82\\x05d\\x08\\x16\\x90!X@\\x86`\\x01\\x19\\x82\\x05d\\x08\\x16\\x90!X@\\x86`\\x01\\x19\\x82\\x05d\\x08\\x16\\x90!X@\\x86`\\x01\\x19\\x82\\x05d\\x08\\x16\\x90!X@\\x86`\\x01\\x19\\x82\\x05d\\x08\\x16\\x90!X@\\x86`\\x01\\x19\\x82\\x05d\\x08\\x16\\x90!X@\\x86`\\x01\\x19\\x82\\x05d\\x08\\x16\\x90!X@\\x86`\\x01\\x19\\x82\\x05d\\x08\\x16\\x90!X@\\x86`\\x01\\x19\\x82\\x05d\\x08\\x16\\x90!X@\\x86`\\x01\\x19\\x82\\x05d\\x9c\\x99\\x99\\xed\\x11\\x00\\xaf\\xf0a\\x01\\x19\\x82\\x05d\\x08\\x16\\x90!X@\\x86`\\x01\\x19\\x82\\x05d\\x08\\x16\\x90!X@\\x86`\\x01\\x19\\x82\\x05d\\x08\\x16\\x90!X@\\x86`\\x01\\x19\\x82\\x05d\\x08\\x16\\x90!X@\\x86`\\x01\\x19\\x82\\x05d\\x08\\x16\\x90!X@\\x86`\\x01\\x19\\x82\\x05d\\x08\\x16\\x90!X@\\x86`\\x01\\x19\\x82\\x05d\\x08\\x16\\x90!X@\\x86`\\x01\\x19\\x82\\x05d\\x08\\x16\\x90!X@\\xc6/\\x8b\\xf5\\x15\\x9b\\rF\\x04\\xd4\\x00\\x00\\x00\\x00IEND\\xaeB`\\x82\"\n"
     ]
    },
    {
     "data": {
      "image/png": "[encoded data removed]",
      "text/plain": [
       "<Figure size 300x300 with 1 Axes>"
      ]
     },
     "metadata": {},
     "output_type": "display_data"
    }
   ],
   "source": [
    "with io.BytesIO() as output:\n",
    "    fig, ax = plt.subplots(figsize=(3, 3))\n",
    "    ax.imshow(X[3].reshape((3, 3)), cmap=\"seismic\")\n",
    "    ax.axis(\"off\")\n",
    "    fig.savefig(output)\n",
    "\n",
    "    print(output.getvalue())"
   ]
  },
  {
   "cell_type": "code",
   "execution_count": 66,
   "metadata": {},
   "outputs": [
    {
     "data": {
      "application/vnd.jupyter.widget-view+json": {
       "model_id": "30110750e6504ec0b13f2beb7ed5264e",
       "version_major": 2,
       "version_minor": 0
      },
      "text/plain": [
       "  0%|          | 0/958 [00:00<?, ?it/s]"
      ]
     },
     "metadata": {},
     "output_type": "display_data"
    }
   ],
   "source": [
    "import io\n",
    "import sys\n",
    "import base64\n",
    "from PIL import Image\n",
    "import copy\n",
    "\n",
    "# Create images for a custom tooltip array\n",
    "tooltip_s = []\n",
    "for image_data in tqdm(X):\n",
    "    with io.BytesIO() as output:\n",
    "        # big_array = (\n",
    "        #     (zoom(image_data.reshape((3, 3)), 30, order=0) + 1) / 2 * 255\n",
    "        # ).astype(np.uint8)\n",
    "        # img = Image.fromarray(big_array)\n",
    "        # img.save(output, \"PNG\")\n",
    "        fig, ax = plt.subplots(figsize=(0.7, 0.7))\n",
    "        ax.imshow(image_data.reshape((3, 3)), cmap=\"seismic\")\n",
    "        ax.axis(\"off\")\n",
    "        plt.tight_layout()\n",
    "        fig.savefig(output)\n",
    "        contents = copy.deepcopy(output.getvalue())\n",
    "        img_encoded = base64.b64encode(contents)\n",
    "        img_tag = \"\"\"<img src=\"data:image/png;base64,{}\">\"\"\".format(\n",
    "            img_encoded.decode(\"utf-8\")\n",
    "        )\n",
    "        tooltip_s.append(img_tag)\n",
    "        plt.close()\n",
    "\n",
    "tooltip_s = np.array(\n",
    "    tooltip_s\n",
    ")  # need to make sure to feed it as a NumPy array, not a list"
   ]
  },
  {
   "cell_type": "code",
   "execution_count": 84,
   "metadata": {},
   "outputs": [],
   "source": [
    "from pyballmapper.plotting import kmapper_visualize\n",
    "\n",
    "kmapper_visualize(\n",
    "    ttt_euc_bm_EQ,\n",
    "    coloring_df=data_num[[\"my_outcome\", \"orbit_id\", \"number_of_moves\"]],\n",
    "    path_html=\"output.html\",\n",
    "    custom_tooltips=tooltip_s,\n",
    "    colorscale=colorscale_red,\n",
    ")"
   ]
  },
  {
   "cell_type": "code",
   "execution_count": null,
   "metadata": {},
   "outputs": [],
   "source": []
  }
 ],
 "metadata": {
  "kernelspec": {
   "display_name": "tda",
   "language": "python",
   "name": "python3"
  },
  "language_info": {
   "codemirror_mode": {
    "name": "ipython",
    "version": 3
   },
   "file_extension": ".py",
   "mimetype": "text/x-python",
   "name": "python",
   "nbconvert_exporter": "python",
   "pygments_lexer": "ipython3",
   "version": "3.12.3"
  },
  "orig_nbformat": 4
 },
 "nbformat": 4,
 "nbformat_minor": 2
}
